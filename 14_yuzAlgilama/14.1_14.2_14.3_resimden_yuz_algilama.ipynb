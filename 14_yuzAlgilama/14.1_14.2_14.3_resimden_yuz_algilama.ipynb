{
 "cells": [
  {
   "cell_type": "code",
   "execution_count": 6,
   "id": "a3e66c00",
   "metadata": {},
   "outputs": [],
   "source": [
    "# 1. Kullanacağımız kütüphaneyi çalışmamıza dahil edelim.\n",
    "import cv2   \n",
    "\n",
    "\n",
    "# 2. Kullanacağımız resmi çalışmamıza dahil edelim.\n",
    "img = cv2.imread(\"umut.jpg\")\n",
    "\n",
    "# 3. Kullanacağımız cascade dosyasını çalışmamıza dahil edelim.\n",
    "face_cascade = cv2.CascadeClassifier(\"frontalface.xml\")\n",
    "\n",
    "# 4. Haar-like özellikleri kolay algılayabilmek için resmimizi boz(gri) tonlara çevirelim.\n",
    "gray = cv2.cvtColor(img, cv2.COLOR_BGR2GRAY)\n",
    "\n",
    "# 5. Şimdi de cascade dosyamızı kullanarak resim üzerindeki yüzlerin koordinarlarını bulalım.\n",
    "faces = face_cascade.detectMultiScale(gray, 1.3, 7)\n",
    "\n",
    "# 6. \"faces\" değişkeninde tuttuğumuz koordinatları kullanarak yüzleri dikdörtgen içerisine alalım.\n",
    "for (x,y,w,h) in faces:\n",
    "    cv2.rectangle(img,(x,y),(x+w,y+h),(0,0,255),2)\n",
    "\n",
    "# 7. İşlediğimiz resmi görelim.\n",
    "cv2.imshow('image',img)\n",
    "\n",
    "# 8. Son olarak programı kapatacak kodu yazalım.\n",
    "cv2.waitKey(0)\n",
    "cv2.destroyAllWindows()"
   ]
  },
  {
   "cell_type": "code",
   "execution_count": null,
   "id": "9526cd53",
   "metadata": {},
   "outputs": [],
   "source": []
  },
  {
   "cell_type": "code",
   "execution_count": null,
   "id": "037fae7a",
   "metadata": {},
   "outputs": [],
   "source": []
  }
 ],
 "metadata": {
  "kernelspec": {
   "display_name": "Python 3 (ipykernel)",
   "language": "python",
   "name": "python3"
  },
  "language_info": {
   "codemirror_mode": {
    "name": "ipython",
    "version": 3
   },
   "file_extension": ".py",
   "mimetype": "text/x-python",
   "name": "python",
   "nbconvert_exporter": "python",
   "pygments_lexer": "ipython3",
   "version": "3.9.12"
  }
 },
 "nbformat": 4,
 "nbformat_minor": 5
}
