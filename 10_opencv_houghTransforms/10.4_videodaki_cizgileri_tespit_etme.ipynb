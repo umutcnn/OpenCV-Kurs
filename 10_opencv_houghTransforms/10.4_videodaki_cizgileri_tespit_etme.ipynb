{
 "cells": [
  {
   "cell_type": "code",
   "execution_count": null,
   "id": "6f6a0406",
   "metadata": {},
   "outputs": [],
   "source": [
    "import cv2\n",
    "import numpy as np\n",
    "\n",
    "vid = cv2.VideoCapture(\"D:\\\\OpenCV\\\\test_videos\\\\line.mp4\")\n",
    "\n",
    "\n",
    "while True:\n",
    "    ret,frame=vid.read()\n",
    "    frame = cv2.resize(frame,(640,480))\n",
    "    hsv = cv2.cvtColor(frame,cv2.COLOR_BGR2HSV) # hsv range for ...\n",
    "    \n",
    "    lower_yellow = np.array([18,94,140],np.uint8)\n",
    "    upper_yellow = np.array([48,255,255],np.uint8)\n",
    "\n",
    "    mask = cv2.inRange(hsv,lower_yellow,upper_yellow)\n",
    "    edges = cv2.Canny(mask,75,250)\n",
    "\n",
    "    lines = cv2.HoughLinesP(edges,1,np.pi/180,50,maxLineGap=50)\n",
    "\n",
    "    for line in lines:\n",
    "        (x1,y1,x2,y2) = line[0]\n",
    "        cv2.line(frame,(x1,y1),(x2,y2),(0,255,0),5)\n",
    "\n",
    "    cv2.imshow(\"IMG\",frame)\n",
    "\n",
    "    if cv2.waitKey(20) & 0xFF==ord('q'):\n",
    "        break\n",
    "\n",
    "vid.release()\n",
    "cv2.destroyAllWindows()"
   ]
  }
 ],
 "metadata": {
  "kernelspec": {
   "display_name": "Python 3 (ipykernel)",
   "language": "python",
   "name": "python3"
  },
  "language_info": {
   "codemirror_mode": {
    "name": "ipython",
    "version": 3
   },
   "file_extension": ".py",
   "mimetype": "text/x-python",
   "name": "python",
   "nbconvert_exporter": "python",
   "pygments_lexer": "ipython3",
   "version": "3.9.12"
  }
 },
 "nbformat": 4,
 "nbformat_minor": 5
}
