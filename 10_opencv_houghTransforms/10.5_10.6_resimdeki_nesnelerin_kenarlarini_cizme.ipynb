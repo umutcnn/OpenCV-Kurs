{
 "cells": [
  {
   "cell_type": "code",
   "execution_count": 1,
   "id": "cdd058ab",
   "metadata": {},
   "outputs": [],
   "source": [
    "import cv2\n",
    "import numpy as np\n",
    "\n",
    "img1=cv2.imread(\"coins.jpg\")\n",
    "img2=cv2.imread(\"balls.jpg\")\n",
    "\n",
    "gray1 = cv2.cvtColor(img1,cv2.COLOR_BGR2GRAY)\n",
    "gray2 = cv2.cvtColor(img2,cv2.COLOR_BGR2GRAY)\n",
    "\n",
    "img1_blur = cv2.medianBlur(gray1,5)\n",
    "img2_blur = cv2.medianBlur(gray2,5)\n",
    "\n",
    "circles = cv2.HoughCircles(img2_blur,cv2.HOUGH_GRADIENT,1,img2.shape[0]/4,param1=200,param2=10,minRadius=15,maxRadius=89)\n",
    "\n",
    "if circles is not None:\n",
    "    circles = np.uint16(np.around(circles))\n",
    "    for i in circles[0,:]:\n",
    "        cv2.circle(img2, (i[0],i[1]), i[2], (0,255,0),2)\n",
    "\n",
    "\n",
    "cv2.imshow(\"img\",img2)"
   ]
  },
  {
   "cell_type": "code",
   "execution_count": 1,
   "id": "946f4b8c",
   "metadata": {},
   "outputs": [],
   "source": [
    "import cv2\n",
    "import numpy as np\n",
    "\n",
    "img1=cv2.imread(\"coins.jpg\")\n",
    "img2=cv2.imread(\"balls.jpg\")\n",
    "\n",
    "gray1 = cv2.cvtColor(img1,cv2.COLOR_BGR2GRAY)\n",
    "gray2 = cv2.cvtColor(img2,cv2.COLOR_BGR2GRAY)\n",
    "\n",
    "img1_blur = cv2.medianBlur(gray1,5)\n",
    "img2_blur = cv2.medianBlur(gray2,5)\n",
    "\n",
    "circles = cv2.HoughCircles(img2_blur,cv2.HOUGH_GRADIENT,1,img2.shape[0]/4,param1=200,param2=10,minRadius=15,maxRadius=80)\n",
    "\n",
    "if circles is not None:\n",
    "    circles = np.uint16(np.around(circles))\n",
    "    for i in circles[0,:]:\n",
    "        cv2.circle(img1, (i[0],i[1]), i[2], (0,255,0),2)\n",
    "\n",
    "cv2.imshow(\"imgs\",img1)\n"
   ]
  },
  {
   "cell_type": "code",
   "execution_count": null,
   "id": "e75c2d2b",
   "metadata": {},
   "outputs": [],
   "source": []
  }
 ],
 "metadata": {
  "kernelspec": {
   "display_name": "Python 3 (ipykernel)",
   "language": "python",
   "name": "python3"
  },
  "language_info": {
   "codemirror_mode": {
    "name": "ipython",
    "version": 3
   },
   "file_extension": ".py",
   "mimetype": "text/x-python",
   "name": "python",
   "nbconvert_exporter": "python",
   "pygments_lexer": "ipython3",
   "version": "3.9.12"
  }
 },
 "nbformat": 4,
 "nbformat_minor": 5
}
