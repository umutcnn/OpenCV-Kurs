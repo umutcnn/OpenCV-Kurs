{
 "cells": [
  {
   "cell_type": "code",
   "execution_count": 1,
   "id": "06865dc3",
   "metadata": {},
   "outputs": [],
   "source": [
    "import cv2\n",
    "import numpy as np\n",
    "#maske uygulayarak arka planı yok etme\n",
    "\n",
    "cap = cv2.VideoCapture(\"car.mp4\")#video alma\n",
    "\n",
    "subtractor = cv2.createBackgroundSubtractorMOG2(history=100,varThreshold=120,detectShadows=True)\n",
    "\n",
    "while 1:\n",
    "    _,frame=cap.read()\n",
    "    frame=cv2.resize(frame,(640,480))\n",
    "    mask = subtractor.apply(frame)\n",
    "\n",
    "    cv2.imshow(\"frame\",frame)\n",
    "    cv2.imshow(\"mask\",mask)\n",
    "\n",
    "    if cv2.waitKey(20) & 0xFF==ord('q'):#q ya basınca çıkma\n",
    "        break\n",
    "\n",
    "\n",
    "cap.release()\n",
    "cv2.destroyAllWindows()"
   ]
  },
  {
   "cell_type": "code",
   "execution_count": null,
   "id": "75986218",
   "metadata": {},
   "outputs": [],
   "source": []
  }
 ],
 "metadata": {
  "kernelspec": {
   "display_name": "Python 3 (ipykernel)",
   "language": "python",
   "name": "python3"
  },
  "language_info": {
   "codemirror_mode": {
    "name": "ipython",
    "version": 3
   },
   "file_extension": ".py",
   "mimetype": "text/x-python",
   "name": "python",
   "nbconvert_exporter": "python",
   "pygments_lexer": "ipython3",
   "version": "3.9.12"
  }
 },
 "nbformat": 4,
 "nbformat_minor": 5
}
