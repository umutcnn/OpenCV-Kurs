{
 "cells": [
  {
   "cell_type": "code",
   "execution_count": 3,
   "id": "940a83a1",
   "metadata": {},
   "outputs": [],
   "source": [
    "import cv2 \n",
    "import numpy as np\n",
    "\n",
    "font=cv2.FONT_HERSHEY_SIMPLEX\n",
    "font1=cv2.FONT_HERSHEY_COMPLEX #open cv2 font\n",
    "\n",
    "img=cv2.imread(\"polygons.png\") #resim ekleme\n",
    "\n",
    "gray=cv2.cvtColor(img,cv2.COLOR_BGR2GRAY)#resmi siyah ve beyazlara cevirme\n",
    "_,threshold = cv2.threshold(gray,240,255,cv2.THRESH_BINARY)\n",
    "\n",
    "\n",
    "contours,_ = cv2.findContours(threshold,cv2.RETR_TREE,cv2.CHAIN_APPROX_SIMPLE)#konturları bulduk\n",
    "\n",
    "#for dongusu ile konturlara daha cok yaklastık\n",
    "for cnt in contours:\n",
    "\n",
    "    epsilon = 0.01*cv2.arcLength(cnt,True)\n",
    "    approx = cv2.approxPolyDP(cnt,epsilon,True)\n",
    "\n",
    "    cv2.drawContours(img,[approx],0,(0),5)\n",
    "\n",
    "    x = approx.ravel()[0]\n",
    "    y = approx.ravel()[1]\n",
    "\n",
    "    if len(approx)==3:\n",
    "        cv2.putText(img,\"Triangle\",(x,y),font1,4,(0))\n",
    "        \n",
    "    elif len(approx)==4:\n",
    "        cv2.putText(img,\"Rectangle\",(x,y),font1,4,(0))\n",
    "        \n",
    "    elif len(approx)==5:\n",
    "        cv2.putText(img,\"Pentagon\",(x,y),font1,4,(0))\n",
    "        \n",
    "    elif len(approx)==6:\n",
    "        cv2.putText(img,\"Hexagon\",(x,y),font1,4,(0))\n",
    "        \n",
    "    else:\n",
    "        cv2.putText(img,\"Ellipse\",(x,y),font1,4,(0))\n",
    "\n",
    "cv2.imshow(\"IMG\",img)\n",
    "\n",
    "    \n",
    "    \n",
    "\n",
    "cv2.waitKey(0)\n",
    "cv2.destroyAllWindows()\n",
    "    "
   ]
  },
  {
   "cell_type": "code",
   "execution_count": null,
   "id": "a3d59971",
   "metadata": {},
   "outputs": [],
   "source": []
  }
 ],
 "metadata": {
  "kernelspec": {
   "display_name": "Python 3 (ipykernel)",
   "language": "python",
   "name": "python3"
  },
  "language_info": {
   "codemirror_mode": {
    "name": "ipython",
    "version": 3
   },
   "file_extension": ".py",
   "mimetype": "text/x-python",
   "name": "python",
   "nbconvert_exporter": "python",
   "pygments_lexer": "ipython3",
   "version": "3.9.12"
  }
 },
 "nbformat": 4,
 "nbformat_minor": 5
}
