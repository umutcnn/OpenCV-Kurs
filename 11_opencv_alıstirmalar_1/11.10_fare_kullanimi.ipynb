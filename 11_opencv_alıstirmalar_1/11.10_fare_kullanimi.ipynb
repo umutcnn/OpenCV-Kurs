{
 "cells": [
  {
   "cell_type": "code",
   "execution_count": 2,
   "id": "5ef569f7",
   "metadata": {},
   "outputs": [],
   "source": [
    "import cv2\n",
    "#oluşturduğumuz pencere üstünde fare ile dokunduğumuz yerlerde çember çıkartıcaz\n",
    "cap = cv2.VideoCapture(\"line.mp4\")\n",
    "circles = []\n",
    "\n",
    "#setMouseCallback içersinde tanımlanan mause fonksiyonunun işlevi burda yazılır\n",
    "def mouse(event,x,y,flags,params): \n",
    "    if event==cv2.EVENT_LBUTTONDOWN:\n",
    "        circles.append((x,y))\n",
    "\n",
    "cv2.namedWindow(\"Frame\")#açılan pencere isimlendirme\n",
    "cv2.setMouseCallback(\"Frame\",mouse)#pencere ve o pencere içinde yapılan işlem girilir \n",
    "\n",
    "while 1:\n",
    "    _,frame = cap.read()\n",
    "    frame = cv2.resize(frame,(640,480))#pencere boyutu\n",
    "    for center in circles:\n",
    "        cv2.circle(frame,center,20,(255,0,0),-1)\n",
    "        \n",
    "    cv2.imshow(\"Frame\",frame)\n",
    "    key = cv2.waitKey(1)\n",
    "    if key==27:\n",
    "        break\n",
    "    elif key == ord(\"h\"):\n",
    "        circles =[]\n",
    "        \n",
    "    if cv2.waitKey(20) & 0xFF==ord('q'):#q ya basınca çıkma\n",
    "        break\n",
    "cap.release()\n",
    "cv2.destroyAllWindows()"
   ]
  },
  {
   "cell_type": "code",
   "execution_count": null,
   "id": "70281b4e",
   "metadata": {},
   "outputs": [],
   "source": []
  }
 ],
 "metadata": {
  "kernelspec": {
   "display_name": "Python 3 (ipykernel)",
   "language": "python",
   "name": "python3"
  },
  "language_info": {
   "codemirror_mode": {
    "name": "ipython",
    "version": 3
   },
   "file_extension": ".py",
   "mimetype": "text/x-python",
   "name": "python",
   "nbconvert_exporter": "python",
   "pygments_lexer": "ipython3",
   "version": "3.9.12"
  }
 },
 "nbformat": 4,
 "nbformat_minor": 5
}
