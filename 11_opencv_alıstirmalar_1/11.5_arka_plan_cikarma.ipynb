{
 "cells": [
  {
   "cell_type": "code",
   "execution_count": 5,
   "id": "7ff2c6ea",
   "metadata": {},
   "outputs": [],
   "source": [
    "import cv2\n",
    "import numpy as np\n",
    "#ilk frame alır aynı olanları siyah farklı olan alanları beyaza boyar\n",
    "\n",
    "\n",
    "cap = cv2.VideoCapture(\"car.mp4\")#video alma\n",
    "#ilk frame çekme\n",
    "_,first_frame=cap.read()\n",
    "#frame gri tona çevirme ve blur uygulama\n",
    "first_frame=cv2.resize(first_frame,(640,480))\n",
    "first_gray=cv2.cvtColor(first_frame,cv2.COLOR_BGR2GRAY)\n",
    "first_gray=cv2.GaussianBlur(first_gray,(5,5),0)\n",
    "\n",
    "while 1:\n",
    "    _,frame=cap.read()\n",
    "    frame=cv2.resize(frame,(640,480))\n",
    "    gray=cv2.cvtColor(frame,cv2.COLOR_BGR2GRAY)\n",
    "    gray=cv2.GaussianBlur(gray,(5,5),0)\n",
    "\n",
    "    diff=cv2.absdiff(first_gray,gray)\n",
    "    \n",
    "    cv2.imshow(\"frame\",frame)\n",
    "    cv2.imshow(\"mask\",first_frame)\n",
    "    cv2.imshow(\"diff\",diff)\n",
    "    if cv2.waitKey(20) & 0xFF==ord('q'):#q ya basınca çıkma\n",
    "        break\n",
    "\n",
    "\n",
    "cap.release()\n",
    "cv2.destroyAllWindows()"
   ]
  },
  {
   "cell_type": "code",
   "execution_count": null,
   "id": "50fd22b9",
   "metadata": {},
   "outputs": [],
   "source": []
  }
 ],
 "metadata": {
  "kernelspec": {
   "display_name": "Python 3 (ipykernel)",
   "language": "python",
   "name": "python3"
  },
  "language_info": {
   "codemirror_mode": {
    "name": "ipython",
    "version": 3
   },
   "file_extension": ".py",
   "mimetype": "text/x-python",
   "name": "python",
   "nbconvert_exporter": "python",
   "pygments_lexer": "ipython3",
   "version": "3.9.12"
  }
 },
 "nbformat": 4,
 "nbformat_minor": 5
}
