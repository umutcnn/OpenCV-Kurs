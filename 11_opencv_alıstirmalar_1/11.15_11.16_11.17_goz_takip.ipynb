{
 "cells": [
  {
   "cell_type": "code",
   "execution_count": 1,
   "id": "1416d53f",
   "metadata": {},
   "outputs": [],
   "source": [
    "import cv2\n",
    "\n",
    "vid = cv2.VideoCapture(\"eye_motion.mp4\")\n",
    "\n",
    "while 1:\n",
    "    ret,frame=vid.read()\n",
    "    if ret is False:\n",
    "        break\n",
    "\n",
    "    roi = frame[80:210,230:450]\n",
    "    rows,cols,_ = roi.shape\n",
    "    gray = cv2.cvtColor(roi,cv2.COLOR_BGR2GRAY)\n",
    "\n",
    "    _,threshold = cv2.threshold(gray,3,255,cv2.THRESH_BINARY_INV)\n",
    "\n",
    "    contours,_ = cv2.findContours(threshold,cv2.RETR_TREE,cv2.CHAIN_APPROX_SIMPLE)\n",
    "    contours = sorted(contours, key = lambda x: cv2.contourArea(x), reverse=True)\n",
    "\n",
    "    for cnt in contours:\n",
    "        (x,y,w,h) = cv2.boundingRect(cnt)\n",
    "        cv2.rectangle(roi,(x,y),(x+w,y+h),(255,0,0),2)\n",
    "        cv2.line(roi,(x+int(w/2),0),(x+int(w/2),rows),(0,255,0),2)\n",
    "        cv2.line(roi,(0,y+int(h/2)),(cols,y+int(h/2)),(0,255,0),2)\n",
    "        break\n",
    "    \n",
    "    frame[80:210,230:450] = roi\n",
    "    \n",
    "    cv2.imshow(\"frame\",frame)\n",
    "  \n",
    "    if cv2.waitKey(80) & 0xFF==ord('q'):\n",
    "        break\n",
    "\n",
    "vid.release()\n",
    "cv2.destroyAllWindows()"
   ]
  },
  {
   "cell_type": "code",
   "execution_count": null,
   "id": "2827391a",
   "metadata": {},
   "outputs": [],
   "source": []
  }
 ],
 "metadata": {
  "kernelspec": {
   "display_name": "Python 3 (ipykernel)",
   "language": "python",
   "name": "python3"
  },
  "language_info": {
   "codemirror_mode": {
    "name": "ipython",
    "version": 3
   },
   "file_extension": ".py",
   "mimetype": "text/x-python",
   "name": "python",
   "nbconvert_exporter": "python",
   "pygments_lexer": "ipython3",
   "version": "3.9.12"
  }
 },
 "nbformat": 4,
 "nbformat_minor": 5
}
