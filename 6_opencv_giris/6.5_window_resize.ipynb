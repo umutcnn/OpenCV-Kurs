{
 "cells": [
  {
   "cell_type": "code",
   "execution_count": 10,
   "id": "f4361fb4",
   "metadata": {},
   "outputs": [],
   "source": [
    "import cv2\n",
    "\n",
    "cv2.namedWindow(\"image\")#pencereyi buyutup kucultmek için\n",
    "img=cv2.imread(\"robot.jpg\")\n",
    "\n",
    "img=cv2.resize(img, (640,480))\n",
    "\n",
    "cv2.imshow(\"image\",img)#pencere açıp gosterme\n",
    "\n",
    "cv2.waitKey(0)#ekranda durma süresi\n",
    "cv2.destroyAllWindows()"
   ]
  },
  {
   "cell_type": "code",
   "execution_count": null,
   "id": "209186b5",
   "metadata": {},
   "outputs": [],
   "source": []
  }
 ],
 "metadata": {
  "kernelspec": {
   "display_name": "Python 3 (ipykernel)",
   "language": "python",
   "name": "python3"
  },
  "language_info": {
   "codemirror_mode": {
    "name": "ipython",
    "version": 3
   },
   "file_extension": ".py",
   "mimetype": "text/x-python",
   "name": "python",
   "nbconvert_exporter": "python",
   "pygments_lexer": "ipython3",
   "version": "3.9.12"
  }
 },
 "nbformat": 4,
 "nbformat_minor": 5
}
