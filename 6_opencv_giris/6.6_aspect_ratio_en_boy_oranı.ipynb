{
 "cells": [
  {
   "cell_type": "code",
   "execution_count": 2,
   "id": "69034920",
   "metadata": {},
   "outputs": [],
   "source": [
    "import cv2\n",
    "\n",
    "\n",
    "def resizewithAspectRatio(img, width=None, height=None, inter=cv2.INTER_AREA):\n",
    "    dimesion=None\n",
    "    (h,w)=img.shape[:2]\n",
    "    \n",
    "    if width is None and  height is None:\n",
    "        return img;\n",
    "    \n",
    "    if width is None:\n",
    "        r= height/float(h)\n",
    "        dimension=(int(w*r),height)\n",
    "        \n",
    "    else:\n",
    "        r=width/float(w)\n",
    "        dimesion=(width,int(h*r))\n",
    "    return cv2.resize(img,dimesion,interpolation=inter)\n",
    "img=cv2.imread(\"robot.jpg\")\n",
    "img1=resizewithAspectRatio(img, width=None, height=None, inter=cv2.INTER_AREA)\n",
    "cv2.imshow(\"original\", img)\n",
    "cv2.imshow(\"Resized\",img1)\n",
    "\n",
    "cv2.waitKey(0)\n",
    "cv2.destroyAllWindows()\n"
   ]
  },
  {
   "cell_type": "code",
   "execution_count": null,
   "id": "56d6889f",
   "metadata": {},
   "outputs": [],
   "source": []
  }
 ],
 "metadata": {
  "kernelspec": {
   "display_name": "Python 3 (ipykernel)",
   "language": "python",
   "name": "python3"
  },
  "language_info": {
   "codemirror_mode": {
    "name": "ipython",
    "version": 3
   },
   "file_extension": ".py",
   "mimetype": "text/x-python",
   "name": "python",
   "nbconvert_exporter": "python",
   "pygments_lexer": "ipython3",
   "version": "3.9.12"
  }
 },
 "nbformat": 4,
 "nbformat_minor": 5
}
