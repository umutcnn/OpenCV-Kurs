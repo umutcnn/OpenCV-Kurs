{
 "cells": [
  {
   "cell_type": "code",
   "execution_count": 1,
   "id": "e3cb3d87",
   "metadata": {},
   "outputs": [],
   "source": [
    "import cv2\n",
    "import numpy\n",
    "import matplotlib\n",
    "\n",
    "img=cv2.imread(\"robot.jpg\")\n",
    "cv2.namedWindow(\"image\",cv2.WINDOW_NORMAL)#pencereyi buyutup kucultmek için\n",
    "cv2.imshow(\"image\",img)#pencere açıp gosterme\n",
    "cv2.waitKey(0)#ekranda durma süresi\n",
    "cv2.destroyAllWindows()"
   ]
  },
  {
   "cell_type": "code",
   "execution_count": 23,
   "id": "185ca5b5",
   "metadata": {},
   "outputs": [],
   "source": [
    "import cv2\n",
    "import numpy\n",
    "import matplotlib\n",
    "\n",
    "img=cv2.imread(\"robot.jpg\")\n",
    "cv2.namedWindow(\"image\",cv2.WINDOW_NORMAL)#pencereyi buyutup kucultmek için\n",
    "cv2.imwrite(\"robot2.jpg\",img)#kaydetme \n",
    "cv2.waitKey(0)#ekranda durma süresi\n",
    "cv2.destroyAllWindows()"
   ]
  }
 ],
 "metadata": {
  "kernelspec": {
   "display_name": "Python 3 (ipykernel)",
   "language": "python",
   "name": "python3"
  },
  "language_info": {
   "codemirror_mode": {
    "name": "ipython",
    "version": 3
   },
   "file_extension": ".py",
   "mimetype": "text/x-python",
   "name": "python",
   "nbconvert_exporter": "python",
   "pygments_lexer": "ipython3",
   "version": "3.9.12"
  }
 },
 "nbformat": 4,
 "nbformat_minor": 5
}
