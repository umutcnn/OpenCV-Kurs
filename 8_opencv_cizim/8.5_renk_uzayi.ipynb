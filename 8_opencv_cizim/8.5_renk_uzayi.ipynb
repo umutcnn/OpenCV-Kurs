{
 "cells": [
  {
   "cell_type": "code",
   "execution_count": 3,
   "id": "adcd9311",
   "metadata": {},
   "outputs": [],
   "source": [
    "import cv2\n",
    "import numpy as np\n",
    "\n",
    "img=cv2.imread(\"robot.jpg\")\n",
    "img_rgb=cv2.cvtColor(img,cv2.COLOR_BGR2RGB)#rgb yapar\n",
    "img_hsv=cv2.cvtColor(img,cv2.COLOR_BGR2HSV)\n",
    "img_gray=cv2.cvtColor(img,cv2.COLOR_BGR2GRAY)#gri yapar\n",
    "\n",
    "\n",
    "cv2.imshow(\"image\",img)#pencere açıp gosterme\n",
    "cv2.imshow(\"img_rgb\",img_rgb)\n",
    "cv2.imshow(\"img_hsv\",img_hsv)\n",
    "cv2.imshow(\"img_gray\",img_gray)\n",
    "cv2.waitKey(0)#ekranda durma süresi\n",
    "cv2.destroyAllWindows()"
   ]
  },
  {
   "cell_type": "code",
   "execution_count": null,
   "id": "929581e0",
   "metadata": {},
   "outputs": [],
   "source": []
  }
 ],
 "metadata": {
  "kernelspec": {
   "display_name": "Python 3 (ipykernel)",
   "language": "python",
   "name": "python3"
  },
  "language_info": {
   "codemirror_mode": {
    "name": "ipython",
    "version": 3
   },
   "file_extension": ".py",
   "mimetype": "text/x-python",
   "name": "python",
   "nbconvert_exporter": "python",
   "pygments_lexer": "ipython3",
   "version": "3.9.12"
  }
 },
 "nbformat": 4,
 "nbformat_minor": 5
}
