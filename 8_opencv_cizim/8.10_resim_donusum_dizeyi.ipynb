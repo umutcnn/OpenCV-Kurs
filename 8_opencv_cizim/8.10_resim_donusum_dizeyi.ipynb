{
 "cells": [
  {
   "cell_type": "code",
   "execution_count": 1,
   "id": "a4a184da",
   "metadata": {},
   "outputs": [],
   "source": [
    "import cv2\n",
    "import numpy as np\n",
    "\n",
    "img = cv2.imread(\"robot.jpg\",0)\n",
    "row,col = img.shape\n",
    "\n",
    "M= np.float32([[1,0,50],[0,1,200]])\n",
    "\n",
    "dst = cv2.warpAffine(img,M,(row,col))\n",
    "\n",
    "cv2.imshow(\"dst\",dst)"
   ]
  },
  {
   "cell_type": "code",
   "execution_count": null,
   "id": "16a2bd34",
   "metadata": {},
   "outputs": [],
   "source": []
  }
 ],
 "metadata": {
  "kernelspec": {
   "display_name": "Python 3 (ipykernel)",
   "language": "python",
   "name": "python3"
  },
  "language_info": {
   "codemirror_mode": {
    "name": "ipython",
    "version": 3
   },
   "file_extension": ".py",
   "mimetype": "text/x-python",
   "name": "python",
   "nbconvert_exporter": "python",
   "pygments_lexer": "ipython3",
   "version": "3.9.12"
  }
 },
 "nbformat": 4,
 "nbformat_minor": 5
}
