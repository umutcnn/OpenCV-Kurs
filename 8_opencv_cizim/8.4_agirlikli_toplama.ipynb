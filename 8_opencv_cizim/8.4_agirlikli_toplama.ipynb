{
 "cells": [
  {
   "cell_type": "code",
   "execution_count": 1,
   "id": "fcbf170b",
   "metadata": {},
   "outputs": [],
   "source": [
    "import cv2\n",
    "import numpy as np\n",
    "\n",
    "circle = np.zeros((512,512,3), np.uint8)+255#daire olusturduk\n",
    "cv2.circle(circle,(256,256), 60,(255,0,0),-1)\n",
    "\n",
    "\n",
    "rectangle = np.zeros((512,512,3), np.uint8)+255#dikdortgen olusturduk\n",
    "cv2.rectangle(rectangle,(150,150),(350,350),(0,0,255),-1)\n",
    "\n",
    "dst=cv2.addWeighted(circle,0.7,rectangle,0.3,0)\n",
    "\n",
    "cv2.imshow(\"circle\",circle)#pencere açıp gosterme\n",
    "cv2.imshow(\"rectangle\",rectangle)\n",
    "cv2.imshow(\"dst\",dst)\n",
    "cv2.waitKey(0)#ekranda durma süresi\n",
    "cv2.destroyAllWindows()"
   ]
  },
  {
   "cell_type": "code",
   "execution_count": null,
   "id": "5153be35",
   "metadata": {},
   "outputs": [],
   "source": []
  }
 ],
 "metadata": {
  "kernelspec": {
   "display_name": "Python 3 (ipykernel)",
   "language": "python",
   "name": "python3"
  },
  "language_info": {
   "codemirror_mode": {
    "name": "ipython",
    "version": 3
   },
   "file_extension": ".py",
   "mimetype": "text/x-python",
   "name": "python",
   "nbconvert_exporter": "python",
   "pygments_lexer": "ipython3",
   "version": "3.9.12"
  }
 },
 "nbformat": 4,
 "nbformat_minor": 5
}
