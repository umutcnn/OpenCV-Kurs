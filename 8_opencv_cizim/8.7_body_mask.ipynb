{
 "cells": [
  {
   "cell_type": "code",
   "execution_count": 1,
   "id": "46c54bfa",
   "metadata": {},
   "outputs": [
    {
     "ename": "error",
     "evalue": "OpenCV(4.6.0) D:\\a\\opencv-python\\opencv-python\\opencv\\modules\\highgui\\src\\window_w32.cpp:2581: error: (-27:Null pointer) NULL window: 'Trackbar' in function 'cvGetTrackbarPos'\n",
     "output_type": "error",
     "traceback": [
      "\u001b[1;31m---------------------------------------------------------------------------\u001b[0m",
      "\u001b[1;31merror\u001b[0m                                     Traceback (most recent call last)",
      "Input \u001b[1;32mIn [1]\u001b[0m, in \u001b[0;36m<cell line: 26>\u001b[1;34m()\u001b[0m\n\u001b[0;32m     27\u001b[0m frame\u001b[38;5;241m=\u001b[39mcv2\u001b[38;5;241m.\u001b[39mflip(frame,\u001b[38;5;241m1\u001b[39m)\n\u001b[0;32m     29\u001b[0m frame_hsv\u001b[38;5;241m=\u001b[39mcv2\u001b[38;5;241m.\u001b[39mcvtColor(frame, cv2\u001b[38;5;241m.\u001b[39mCOLOR_BGR2HSV)\n\u001b[1;32m---> 31\u001b[0m lower_h\u001b[38;5;241m=\u001b[39m\u001b[43mcv2\u001b[49m\u001b[38;5;241;43m.\u001b[39;49m\u001b[43mgetTrackbarPos\u001b[49m\u001b[43m(\u001b[49m\u001b[38;5;124;43m\"\u001b[39;49m\u001b[38;5;124;43mLower - H\u001b[39;49m\u001b[38;5;124;43m\"\u001b[39;49m\u001b[43m,\u001b[49m\u001b[38;5;124;43m\"\u001b[39;49m\u001b[38;5;124;43mTrackbar\u001b[39;49m\u001b[38;5;124;43m\"\u001b[39;49m\u001b[43m)\u001b[49m\n\u001b[0;32m     32\u001b[0m lower_s\u001b[38;5;241m=\u001b[39mcv2\u001b[38;5;241m.\u001b[39mgetTrackbarPos(\u001b[38;5;124m\"\u001b[39m\u001b[38;5;124mLower - S\u001b[39m\u001b[38;5;124m\"\u001b[39m,\u001b[38;5;124m\"\u001b[39m\u001b[38;5;124mTrackbar\u001b[39m\u001b[38;5;124m\"\u001b[39m)\n\u001b[0;32m     33\u001b[0m lower_v\u001b[38;5;241m=\u001b[39mcv2\u001b[38;5;241m.\u001b[39mgetTrackbarPos(\u001b[38;5;124m\"\u001b[39m\u001b[38;5;124mLower - V\u001b[39m\u001b[38;5;124m\"\u001b[39m,\u001b[38;5;124m\"\u001b[39m\u001b[38;5;124mTrackbar\u001b[39m\u001b[38;5;124m\"\u001b[39m)\n",
      "\u001b[1;31merror\u001b[0m: OpenCV(4.6.0) D:\\a\\opencv-python\\opencv-python\\opencv\\modules\\highgui\\src\\window_w32.cpp:2581: error: (-27:Null pointer) NULL window: 'Trackbar' in function 'cvGetTrackbarPos'\n"
     ]
    }
   ],
   "source": [
    "import cv2\n",
    "import numpy as np \n",
    "\n",
    "cap=cv2.VideoCapture(0)\n",
    "\n",
    "def nothing(x):\n",
    "    pass\n",
    "\n",
    "cv2.namedWindow(\"Trackbar\")\n",
    "cv2.resizeWindow(\"Trackbar\",500,500)\n",
    "\n",
    "cv2.createTrackbar(\"Lower - H\",\"Trackbar\",0,180,nothing)\n",
    "cv2.createTrackbar(\"Lower - S\",\"Trackbar\",0,255,nothing)\n",
    "cv2.createTrackbar(\"Lower - V\",\"Trackbar\",0,255,nothing)\n",
    "\n",
    "\n",
    "cv2.createTrackbar(\"Upper - H\",\"Trackbar\",0,180,nothing)\n",
    "cv2.createTrackbar(\"Upper - S\",\"Trackbar\",0,255,nothing)\n",
    "cv2.createTrackbar(\"Upper - V\",\"Trackbar\",0,255,nothing)\n",
    "\n",
    "cv2.setTrackbarPos(\"Upper - H\",\"Trackbar\",180)\n",
    "cv2.setTrackbarPos(\"Upper - S\",\"Trackbar\",255)\n",
    "cv2.setTrackbarPos(\"Upper - V\",\"Trackbar\",255)\n",
    "\n",
    "while True:\n",
    "    ret,frame=cap.read()\n",
    "    frame=cv2.flip(frame,1)\n",
    "    \n",
    "    frame_hsv=cv2.cvtColor(frame, cv2.COLOR_BGR2HSV)\n",
    "    \n",
    "    lower_h=cv2.getTrackbarPos(\"Lower - H\",\"Trackbar\")\n",
    "    lower_s=cv2.getTrackbarPos(\"Lower - S\",\"Trackbar\")\n",
    "    lower_v=cv2.getTrackbarPos(\"Lower - V\",\"Trackbar\")\n",
    "    \n",
    "    upper_h=cv2.getTrackbarPos(\"Upper - H\",\"Trackbar\")\n",
    "    upper_s=cv2.getTrackbarPos(\"Upper - S\",\"Trackbar\")\n",
    "    upper_v=cv2.getTrackbarPos(\"Upper - V\",\"Trackbar\")\n",
    "    \n",
    "    lower_color=np.array([lower_h,lower_s,lower_v])\n",
    "    upper_color=np.array([upper_h,upper_s,upper_v])\n",
    "    \n",
    "    mask=cv2.inRange(frame_hsv,lower_color,upper_color)\n",
    "    \n",
    "    cv2.imshow(\"Original\",frame)\n",
    "    cv2.imshow(\"Maske\",mask)\n",
    "    \n",
    "    if cv2.waitKey(20) & 0xff == ord(\"q\"):\n",
    "        break\n",
    "    \n",
    "cap.release()\n",
    "cv2.destroyAllWindows()"
   ]
  },
  {
   "cell_type": "code",
   "execution_count": null,
   "id": "eb05feda",
   "metadata": {},
   "outputs": [],
   "source": []
  },
  {
   "cell_type": "code",
   "execution_count": null,
   "id": "92565c5a",
   "metadata": {},
   "outputs": [],
   "source": []
  }
 ],
 "metadata": {
  "kernelspec": {
   "display_name": "Python 3 (ipykernel)",
   "language": "python",
   "name": "python3"
  },
  "language_info": {
   "codemirror_mode": {
    "name": "ipython",
    "version": 3
   },
   "file_extension": ".py",
   "mimetype": "text/x-python",
   "name": "python",
   "nbconvert_exporter": "python",
   "pygments_lexer": "ipython3",
   "version": "3.9.12"
  }
 },
 "nbformat": 4,
 "nbformat_minor": 5
}
