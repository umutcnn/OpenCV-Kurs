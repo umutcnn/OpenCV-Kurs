{
 "cells": [
  {
   "cell_type": "code",
   "execution_count": 5,
   "id": "dd937d8a",
   "metadata": {},
   "outputs": [],
   "source": [
    "import cv2\n",
    "import numpy as np\n",
    "\n",
    "img_filter = cv2.imread(\"filter.png\")\n",
    "img_median = cv2.imread(\"median.png\")\n",
    "img_bilateral = cv2.imread(\"bilateral.png\")\n",
    "\n",
    "#blur =cv2.blur(img_filter,(5,5))\n",
    "#blur_g=cv2.GaussianBlur(img_filter,(5,5),cv2.BORDER_DEFAULT)\n",
    "#blur_m = cv2.medianBlur(img_median,5)\n",
    "blur_b = cv2.bilateralFilter(img_bilateral,9,95,95)\n",
    "\n",
    "cv2.imshow(\"original\",img_bilateral)\n",
    "cv2.imshow(\"blur_b\",blur_b)\n",
    "\n",
    "\n",
    "cv2.waitKey(0)\n",
    "cv2.destroyAllWindows()"
   ]
  },
  {
   "cell_type": "code",
   "execution_count": null,
   "id": "c411bbf1",
   "metadata": {},
   "outputs": [],
   "source": []
  },
  {
   "cell_type": "code",
   "execution_count": null,
   "id": "95350366",
   "metadata": {},
   "outputs": [],
   "source": []
  },
  {
   "cell_type": "code",
   "execution_count": null,
   "id": "fa01f262",
   "metadata": {},
   "outputs": [],
   "source": []
  }
 ],
 "metadata": {
  "kernelspec": {
   "display_name": "Python 3 (ipykernel)",
   "language": "python",
   "name": "python3"
  },
  "language_info": {
   "codemirror_mode": {
    "name": "ipython",
    "version": 3
   },
   "file_extension": ".py",
   "mimetype": "text/x-python",
   "name": "python",
   "nbconvert_exporter": "python",
   "pygments_lexer": "ipython3",
   "version": "3.9.12"
  }
 },
 "nbformat": 4,
 "nbformat_minor": 5
}
