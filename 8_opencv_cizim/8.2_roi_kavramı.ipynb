{
 "cells": [
  {
   "cell_type": "code",
   "execution_count": 5,
   "id": "d003630d",
   "metadata": {},
   "outputs": [
    {
     "name": "stdout",
     "output_type": "stream",
     "text": [
      "(421, 631)\n"
     ]
    }
   ],
   "source": [
    "#roi ilgili alan bulma\n",
    "import cv2\n",
    "\n",
    "img=cv2.imread(\"robot.jpg\")#resimi çalışmaya dahil etme\n",
    "print(img.shape[:2])\n",
    "roi=img[30:190,220:350]\n",
    "cv2.imshow(\"image\",img)#pencere açıp gosterme\n",
    "cv2.imshow(\"Roi\",roi)#pencere açıp gosterme\n",
    "cv2.waitKey(0)#ekranda durma süresi\n",
    "cv2.destroyAllWindows()"
   ]
  },
  {
   "cell_type": "code",
   "execution_count": null,
   "id": "0289d351",
   "metadata": {},
   "outputs": [],
   "source": []
  }
 ],
 "metadata": {
  "kernelspec": {
   "display_name": "Python 3 (ipykernel)",
   "language": "python",
   "name": "python3"
  },
  "language_info": {
   "codemirror_mode": {
    "name": "ipython",
    "version": 3
   },
   "file_extension": ".py",
   "mimetype": "text/x-python",
   "name": "python",
   "nbconvert_exporter": "python",
   "pygments_lexer": "ipython3",
   "version": "3.9.12"
  }
 },
 "nbformat": 4,
 "nbformat_minor": 5
}
