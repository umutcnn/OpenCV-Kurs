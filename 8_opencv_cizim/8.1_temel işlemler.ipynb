{
 "cells": [
  {
   "cell_type": "code",
   "execution_count": 9,
   "id": "6690ea89",
   "metadata": {},
   "outputs": [
    {
     "name": "stdout",
     "output_type": "stream",
     "text": [
      "[124 117 114]\n",
      "[232 226 215]\n",
      "(421, 631, 3)\n",
      "rgb:  [227 221 216]\n",
      "blue:  227\n",
      "green:  221\n",
      "red:  216\n",
      "new blue:  250\n",
      "blue1:  124\n",
      "new blue1:  172\n"
     ]
    }
   ],
   "source": [
    "import cv2\n",
    "import numpy as np\n",
    "\n",
    "img=cv2.imread(\"robot.jpg\")\n",
    "\n",
    "color= img[150,200]#150,200 deki pikselin renk değerini tutar\n",
    "print(color)\n",
    "color= img[205,250]#205,250 deki pikselin renk değerini tutar\n",
    "print(color)\n",
    "\n",
    "\n",
    "dimesion=img.shape #resmin boyutunu ve kanal verilerinin bilgisini verir\n",
    "print(dimesion)\n",
    "\n",
    "\n",
    "color=img[420,500]\n",
    "print(\"rgb: \",color)\n",
    "\n",
    "blue=img[420,500,0]\n",
    "print(\"blue: \",blue)\n",
    "\n",
    "green=img[420,500,1]\n",
    "print(\"green: \",green)\n",
    "\n",
    "red=img[420,500,2]\n",
    "print(\"red: \",red)\n",
    "\n",
    "img[420,500,0]=250\n",
    "print(\"new blue: \",img[420,500,0])\n",
    "\n",
    "blue1=img.item(150,200,0)\n",
    "print(\"blue1: \",blue1)\n",
    "\n",
    "img.itemset((150,200,0),172)#piksel değerini degistirme\n",
    "print(\"new blue1: \",img[150,200,0])\n",
    "\n",
    "\n",
    "cv2.imshow(\"image\",img)#pencere açıp gosterme\n",
    "cv2.waitKey(0)#ekranda durma süresi\n",
    "cv2.destroyAllWindows()"
   ]
  },
  {
   "cell_type": "code",
   "execution_count": null,
   "id": "0acad916",
   "metadata": {},
   "outputs": [],
   "source": []
  }
 ],
 "metadata": {
  "kernelspec": {
   "display_name": "Python 3 (ipykernel)",
   "language": "python",
   "name": "python3"
  },
  "language_info": {
   "codemirror_mode": {
    "name": "ipython",
    "version": 3
   },
   "file_extension": ".py",
   "mimetype": "text/x-python",
   "name": "python",
   "nbconvert_exporter": "python",
   "pygments_lexer": "ipython3",
   "version": "3.9.12"
  }
 },
 "nbformat": 4,
 "nbformat_minor": 5
}
