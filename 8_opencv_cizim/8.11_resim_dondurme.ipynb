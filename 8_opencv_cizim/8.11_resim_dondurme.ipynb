{
 "cells": [
  {
   "cell_type": "code",
   "execution_count": null,
   "id": "cd7b3047",
   "metadata": {},
   "outputs": [],
   "source": [
    "import cv2\n",
    "import numpy as np\n",
    "\n",
    "img = cv2.imread(\"robot.jpg\",0)\n",
    "row,col = img.shape\n",
    "\n",
    "M= cv2.getRotationMatrix2D((col/5,row/3),180,1)\n",
    "\n",
    "dst = cv2.warpAffine(img,M,(col,row))\n",
    "\n",
    "cv2.imshow(\"dst\",dst)"
   ]
  }
 ],
 "metadata": {
  "kernelspec": {
   "display_name": "Python 3 (ipykernel)",
   "language": "python",
   "name": "python3"
  },
  "language_info": {
   "codemirror_mode": {
    "name": "ipython",
    "version": 3
   },
   "file_extension": ".py",
   "mimetype": "text/x-python",
   "name": "python",
   "nbconvert_exporter": "python",
   "pygments_lexer": "ipython3",
   "version": "3.9.12"
  }
 },
 "nbformat": 4,
 "nbformat_minor": 5
}
