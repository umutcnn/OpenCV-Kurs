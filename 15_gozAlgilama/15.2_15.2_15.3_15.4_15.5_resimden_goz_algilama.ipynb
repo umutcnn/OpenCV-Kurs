{
 "cells": [
  {
   "cell_type": "code",
   "execution_count": null,
   "id": "1dfcb0bc",
   "metadata": {},
   "outputs": [],
   "source": [
    "# 1. Kullanacağımız kütüphaneyi çalışmamıza dahil edelim.\n",
    "import cv2   \n",
    "\n",
    "\n",
    "# 2. Kullanacağımız videoyu çalışmamıza dahil edelim.\n",
    "img = cv2.imread(\"eye.png\")\n",
    "\n",
    "# 3. Kullanacağımız cascade dosyalarını çalışmamıza dahil edelim.\n",
    "face_cascade = cv2.CascadeClassifier(\"frontalface.xml\")\n",
    "eye_cascade = cv2.CascadeClassifier(\"hearcasecade_eye.xml\")\n",
    "\n",
    "# 6. Haar-like özellikleri kolay algılayabilmek için her bir kareyi boz(gri) tonlara çevirelim.\n",
    "gray = cv2.cvtColor(img, cv2.COLOR_BGR2GRAY)\n",
    "    \n",
    "# 7. Şimdi de cascade dosyamızı kullanarak her bir kare üzerindeki yüzlerin koordinarlarını bulalım.\n",
    "faces = face_cascade.detectMultiScale(gray)\n",
    "\n",
    "# 8. \"faces\" değişkeninde tuttuğumuz koordinatları kullanarak yüzleri dikdörtgen içerisine alalım.\n",
    "for (x,y,w,h) in faces:\n",
    "    cv2.rectangle(img,(x,y),(x+w,y+h),(0,255,0),2)\n",
    "\n",
    "# 9. Şimdi de, bulduğum yüzler içinde göz arayacağım. \n",
    "gray2 = gray[y:y+h, x:x+w]\n",
    "img2 = img[y:y+h, x:x+w]\n",
    "\n",
    "# 10. eye cascade dosyasını kullanarak gözlerin koordinatlarını bulalım.\n",
    "eyes = eye_cascade.detectMultiScale(gray2)\n",
    "\n",
    "# 11. bu koordinatlara dikdörtgen çizelim.\n",
    "for (ex,ey,ew,eh) in eyes:\n",
    "\tcv2.rectangle(roi_img,(ex,ey),(ex+ew,ey+eh),(0,0,255),2)\n",
    "         \n",
    "# 12. İşlediğimiz resmi görelim.\n",
    "cv2.imshow('image',img)\n",
    "\n",
    "# 13. Programı kapatacak kodu yazalım.\n",
    "cv2.waitKey(0)\n",
    "cv2.destroyAllWindows()"
   ]
  }
 ],
 "metadata": {
  "kernelspec": {
   "display_name": "Python 3 (ipykernel)",
   "language": "python",
   "name": "python3"
  },
  "language_info": {
   "codemirror_mode": {
    "name": "ipython",
    "version": 3
   },
   "file_extension": ".py",
   "mimetype": "text/x-python",
   "name": "python",
   "nbconvert_exporter": "python",
   "pygments_lexer": "ipython3",
   "version": "3.9.12"
  }
 },
 "nbformat": 4,
 "nbformat_minor": 5
}
