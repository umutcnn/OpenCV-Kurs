{
 "cells": [
  {
   "cell_type": "code",
   "execution_count": 3,
   "id": "46f90c73",
   "metadata": {},
   "outputs": [
    {
     "name": "stdout",
     "output_type": "stream",
     "text": [
      "[[[255 255 255]\n",
      "  [255 255 255]\n",
      "  [255 255 255]\n",
      "  ...\n",
      "  [255 255 255]\n",
      "  [255 255 255]\n",
      "  [255 255 255]]\n",
      "\n",
      " [[255 255 255]\n",
      "  [255 255 255]\n",
      "  [255 255 255]\n",
      "  ...\n",
      "  [255 255 255]\n",
      "  [255 255 255]\n",
      "  [255 255 255]]\n",
      "\n",
      " [[255 255 255]\n",
      "  [255 255 255]\n",
      "  [255 255 255]\n",
      "  ...\n",
      "  [255 255 255]\n",
      "  [255 255 255]\n",
      "  [255 255 255]]\n",
      "\n",
      " ...\n",
      "\n",
      " [[255 255 255]\n",
      "  [255 255 255]\n",
      "  [255 255 255]\n",
      "  ...\n",
      "  [255 255 255]\n",
      "  [255 255 255]\n",
      "  [255 255 255]]\n",
      "\n",
      " [[255 255 255]\n",
      "  [255 255 255]\n",
      "  [255 255 255]\n",
      "  ...\n",
      "  [255 255 255]\n",
      "  [255 255 255]\n",
      "  [255 255 255]]\n",
      "\n",
      " [[255 255 255]\n",
      "  [255 255 255]\n",
      "  [255 255 255]\n",
      "  ...\n",
      "  [255 255 255]\n",
      "  [255 255 255]\n",
      "  [255 255 255]]]\n",
      "type:  <class 'numpy.ndarray'>\n",
      "shape:  (474, 640, 3)\n",
      "ndim:  3\n",
      "size:  910080\n",
      "dtype: uint8\n",
      "red channel:  182\n",
      "green channel:  162\n",
      "blue channel:  111\n",
      "rgb channel value:  [182 162 111]\n"
     ]
    }
   ],
   "source": [
    "import numpy as np\n",
    "import matplotlib.pyplot as plt\n",
    "\n",
    "path = 'coins.jpg'#resim\n",
    "img = plt.imread(path)#okuma\n",
    "print(img)#resmin matrisi\n",
    "print(\"type: \",type(img))#resmin tipi\n",
    "print(\"shape: \",img.shape)#resmin kaça kaçlık olduğu\n",
    "print(\"ndim: \",img.ndim)#resmin dizi boyutunun sayısı.\n",
    "print(\"size: \",img.size)#resmin boyutu\n",
    "print(\"dtype:\", img.dtype)#resmin veri tipi\n",
    "\n",
    "print(\"red channel: \",img[50,50,0]) # rgb--> r =0, g=1, b=2\n",
    "print(\"green channel: \",img[50,50,1])\n",
    "print(\"blue channel: \",img[50,50,2])\n",
    "print(\"rgb channel value: \",img[50,50,:])"
   ]
  },
  {
   "cell_type": "code",
   "execution_count": null,
   "id": "bc66ce96",
   "metadata": {},
   "outputs": [],
   "source": []
  }
 ],
 "metadata": {
  "kernelspec": {
   "display_name": "Python 3 (ipykernel)",
   "language": "python",
   "name": "python3"
  },
  "language_info": {
   "codemirror_mode": {
    "name": "ipython",
    "version": 3
   },
   "file_extension": ".py",
   "mimetype": "text/x-python",
   "name": "python",
   "nbconvert_exporter": "python",
   "pygments_lexer": "ipython3",
   "version": "3.9.12"
  }
 },
 "nbformat": 4,
 "nbformat_minor": 5
}
