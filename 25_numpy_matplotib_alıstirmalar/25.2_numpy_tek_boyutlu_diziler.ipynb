{
 "cells": [
  {
   "cell_type": "code",
   "execution_count": 1,
   "id": "af3134ad",
   "metadata": {},
   "outputs": [
    {
     "name": "stdout",
     "output_type": "stream",
     "text": [
      "[1 2 3]\n",
      "<class 'numpy.ndarray'>\n",
      "1\n",
      "2\n",
      "3\n",
      "3\n",
      "2\n",
      "1\n"
     ]
    }
   ],
   "source": [
    "import numpy as np\n",
    "\n",
    "x = np.array([1,2,3],np.int16) # range of np.int16\n",
    "\n",
    "print(x)\n",
    "\n",
    "print(type(x))\n",
    "print(x[0]);print(x[1]);print(x[2])\n",
    "\n",
    "print(x[-1])\n",
    "print(x[-2])\n",
    "print(x[-3])"
   ]
  },
  {
   "cell_type": "code",
   "execution_count": null,
   "id": "32372221",
   "metadata": {},
   "outputs": [],
   "source": []
  }
 ],
 "metadata": {
  "kernelspec": {
   "display_name": "Python 3 (ipykernel)",
   "language": "python",
   "name": "python3"
  },
  "language_info": {
   "codemirror_mode": {
    "name": "ipython",
    "version": 3
   },
   "file_extension": ".py",
   "mimetype": "text/x-python",
   "name": "python",
   "nbconvert_exporter": "python",
   "pygments_lexer": "ipython3",
   "version": "3.9.12"
  }
 },
 "nbformat": 4,
 "nbformat_minor": 5
}
