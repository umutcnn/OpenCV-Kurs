{
 "cells": [
  {
   "cell_type": "code",
   "execution_count": 1,
   "id": "0ec5c158",
   "metadata": {},
   "outputs": [
    {
     "name": "stdout",
     "output_type": "stream",
     "text": [
      "[[[148 214 238]\n",
      "  [148 214 238]\n",
      "  [148 214 238]\n",
      "  ...\n",
      "  [162 219 239]\n",
      "  [162 219 239]\n",
      "  [162 219 239]]\n",
      "\n",
      " [[148 214 238]\n",
      "  [148 214 238]\n",
      "  [148 214 238]\n",
      "  ...\n",
      "  [162 219 239]\n",
      "  [162 219 239]\n",
      "  [162 219 239]]\n",
      "\n",
      " [[149 215 239]\n",
      "  [149 215 239]\n",
      "  [149 215 239]\n",
      "  ...\n",
      "  [163 218 239]\n",
      "  [163 218 239]\n",
      "  [163 218 239]]\n",
      "\n",
      " ...\n",
      "\n",
      " [[241 237 234]\n",
      "  [242 238 235]\n",
      "  [243 239 236]\n",
      "  ...\n",
      "  [111 177 209]\n",
      "  [111 177 209]\n",
      "  [111 177 209]]\n",
      "\n",
      " [[242 238 235]\n",
      "  [242 238 235]\n",
      "  [243 239 236]\n",
      "  ...\n",
      "  [109 178 209]\n",
      "  [110 179 210]\n",
      "  [110 179 210]]\n",
      "\n",
      " [[242 238 235]\n",
      "  [242 238 235]\n",
      "  [243 239 236]\n",
      "  ...\n",
      "  [109 178 209]\n",
      "  [110 179 210]\n",
      "  [110 179 210]]]\n",
      "min value:  0\n",
      "max value:  255\n",
      "mean:  183.14847417840375\n",
      "median:  210.0\n",
      "average:  183.14847417840375\n",
      "mean1:  183.14847417840375\n"
     ]
    }
   ],
   "source": [
    "import numpy as np\n",
    "import matplotlib.pyplot as plt\n",
    "\n",
    "path = 'smile.jpg'\n",
    "img = plt.imread(path)\n",
    "print(img)\n",
    "print(\"min value: \",img.min())\n",
    "print(\"max value: \", img.max())\n",
    "print(\"mean: \", img.mean())\n",
    "print(\"median: \",np.median(img))\n",
    "print(\"average: \",np.average(img))\n",
    "print(\"mean1: \",np.mean(img))"
   ]
  },
  {
   "cell_type": "code",
   "execution_count": null,
   "id": "242f6a4f",
   "metadata": {},
   "outputs": [],
   "source": []
  }
 ],
 "metadata": {
  "kernelspec": {
   "display_name": "Python 3 (ipykernel)",
   "language": "python",
   "name": "python3"
  },
  "language_info": {
   "codemirror_mode": {
    "name": "ipython",
    "version": 3
   },
   "file_extension": ".py",
   "mimetype": "text/x-python",
   "name": "python",
   "nbconvert_exporter": "python",
   "pygments_lexer": "ipython3",
   "version": "3.9.12"
  }
 },
 "nbformat": 4,
 "nbformat_minor": 5
}
