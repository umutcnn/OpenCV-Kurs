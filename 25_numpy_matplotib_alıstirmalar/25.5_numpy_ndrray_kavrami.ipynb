{
 "cells": [
  {
   "cell_type": "code",
   "execution_count": 1,
   "id": "346710f7",
   "metadata": {},
   "outputs": [
    {
     "name": "stdout",
     "output_type": "stream",
     "text": [
      "[[-2 -1  0  5]\n",
      " [ 9  4  5 -7]\n",
      " [ 9  7  6  5]]\n",
      "(3, 4)\n",
      "2\n",
      "int16\n",
      "12\n",
      "[[-2  9  9]\n",
      " [-1  4  7]\n",
      " [ 0  5  6]\n",
      " [ 5 -7  5]]\n"
     ]
    }
   ],
   "source": [
    "# ndarray --> n-dimensional array\n",
    "\n",
    "import numpy as np\n",
    "x = np.array([[-2,-1,0,5],[9,4,5,-7],[9,7,6,5]],np.int16) # unsigned int\n",
    "\n",
    "print(x)\n",
    "\n",
    "print(x.shape)\n",
    "print(x.ndim)\n",
    "print(x.dtype)\n",
    "print(x.size)\n",
    "print(x.T)"
   ]
  },
  {
   "cell_type": "code",
   "execution_count": null,
   "id": "d5d88213",
   "metadata": {},
   "outputs": [],
   "source": []
  }
 ],
 "metadata": {
  "kernelspec": {
   "display_name": "Python 3 (ipykernel)",
   "language": "python",
   "name": "python3"
  },
  "language_info": {
   "codemirror_mode": {
    "name": "ipython",
    "version": 3
   },
   "file_extension": ".py",
   "mimetype": "text/x-python",
   "name": "python",
   "nbconvert_exporter": "python",
   "pygments_lexer": "ipython3",
   "version": "3.9.12"
  }
 },
 "nbformat": 4,
 "nbformat_minor": 5
}
