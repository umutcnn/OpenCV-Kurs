{
 "cells": [
  {
   "cell_type": "code",
   "execution_count": 3,
   "id": "98a5fa87",
   "metadata": {},
   "outputs": [],
   "source": [
    "import cv2\n",
    "import numpy as np\n",
    "canvas=np.zeros((512,512,3), dtype=np.uint8)\n",
    "cv2.imshow(\"Canvas\",canvas)\n",
    "cv2.waitKey(0)\n",
    "cv2.destroyAllWindows()"
   ]
  },
  {
   "cell_type": "code",
   "execution_count": 6,
   "id": "716523f2",
   "metadata": {},
   "outputs": [
    {
     "name": "stdout",
     "output_type": "stream",
     "text": [
      "[[[255 255 255]\n",
      "  [255 255 255]\n",
      "  [255 255 255]\n",
      "  ...\n",
      "  [255 255 255]\n",
      "  [255 255 255]\n",
      "  [255 255 255]]\n",
      "\n",
      " [[255 255 255]\n",
      "  [255 255 255]\n",
      "  [255 255 255]\n",
      "  ...\n",
      "  [255 255 255]\n",
      "  [255 255 255]\n",
      "  [255 255 255]]\n",
      "\n",
      " [[255 255 255]\n",
      "  [255 255 255]\n",
      "  [255 255 255]\n",
      "  ...\n",
      "  [255 255 255]\n",
      "  [255 255 255]\n",
      "  [255 255 255]]\n",
      "\n",
      " ...\n",
      "\n",
      " [[255 255 255]\n",
      "  [255 255 255]\n",
      "  [255 255 255]\n",
      "  ...\n",
      "  [255 255 255]\n",
      "  [255 255 255]\n",
      "  [255 255 255]]\n",
      "\n",
      " [[255 255 255]\n",
      "  [255 255 255]\n",
      "  [255 255 255]\n",
      "  ...\n",
      "  [255 255 255]\n",
      "  [255 255 255]\n",
      "  [255 255 255]]\n",
      "\n",
      " [[255 255 255]\n",
      "  [255 255 255]\n",
      "  [255 255 255]\n",
      "  ...\n",
      "  [255 255 255]\n",
      "  [255 255 255]\n",
      "  [255 255 255]]]\n"
     ]
    }
   ],
   "source": [
    "import cv2\n",
    "import numpy as np\n",
    "canvas=np.zeros((512,512,3), dtype=np.uint8)+255#beyaz ekran\n",
    "print(canvas)"
   ]
  },
  {
   "cell_type": "code",
   "execution_count": 5,
   "id": "6a62e88f",
   "metadata": {},
   "outputs": [
    {
     "name": "stdout",
     "output_type": "stream",
     "text": [
      "[[[100 100 100]\n",
      "  [100 100 100]\n",
      "  [100 100 100]\n",
      "  ...\n",
      "  [100 100 100]\n",
      "  [100 100 100]\n",
      "  [100 100 100]]\n",
      "\n",
      " [[100 100 100]\n",
      "  [100 100 100]\n",
      "  [100 100 100]\n",
      "  ...\n",
      "  [100 100 100]\n",
      "  [100 100 100]\n",
      "  [100 100 100]]\n",
      "\n",
      " [[100 100 100]\n",
      "  [100 100 100]\n",
      "  [100 100 100]\n",
      "  ...\n",
      "  [100 100 100]\n",
      "  [100 100 100]\n",
      "  [100 100 100]]\n",
      "\n",
      " ...\n",
      "\n",
      " [[100 100 100]\n",
      "  [100 100 100]\n",
      "  [100 100 100]\n",
      "  ...\n",
      "  [100 100 100]\n",
      "  [100 100 100]\n",
      "  [100 100 100]]\n",
      "\n",
      " [[100 100 100]\n",
      "  [100 100 100]\n",
      "  [100 100 100]\n",
      "  ...\n",
      "  [100 100 100]\n",
      "  [100 100 100]\n",
      "  [100 100 100]]\n",
      "\n",
      " [[100 100 100]\n",
      "  [100 100 100]\n",
      "  [100 100 100]\n",
      "  ...\n",
      "  [100 100 100]\n",
      "  [100 100 100]\n",
      "  [100 100 100]]]\n"
     ]
    }
   ],
   "source": [
    "import cv2\n",
    "import numpy as np\n",
    "canvas=np.zeros((512,512,3), dtype=np.uint8)+100#gri ekran\n",
    "print(canvas)"
   ]
  },
  {
   "cell_type": "code",
   "execution_count": null,
   "id": "46c8fc66",
   "metadata": {},
   "outputs": [],
   "source": []
  }
 ],
 "metadata": {
  "kernelspec": {
   "display_name": "Python 3 (ipykernel)",
   "language": "python",
   "name": "python3"
  },
  "language_info": {
   "codemirror_mode": {
    "name": "ipython",
    "version": 3
   },
   "file_extension": ".py",
   "mimetype": "text/x-python",
   "name": "python",
   "nbconvert_exporter": "python",
   "pygments_lexer": "ipython3",
   "version": "3.9.12"
  }
 },
 "nbformat": 4,
 "nbformat_minor": 5
}
