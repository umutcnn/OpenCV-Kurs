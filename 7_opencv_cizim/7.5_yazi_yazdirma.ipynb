{
 "cells": [
  {
   "cell_type": "code",
   "execution_count": 4,
   "id": "d7637813",
   "metadata": {},
   "outputs": [],
   "source": [
    "import cv2\n",
    "import numpy as np\n",
    "\n",
    "canvas = np.zeros((512,512,3), dtype=np.uint8) + 255\n",
    "\n",
    "font1 = cv2.FONT_HERSHEY_SIMPLEX\n",
    "font2 = cv2.FONT_HERSHEY_COMPLEX\n",
    "font3 = cv2.FONT_HERSHEY_SCRIPT_COMPLEX\n",
    "\n",
    "cv2.putText(canvas, \"Umut CAN\", (30, 100), font1, 2, (0,0,0), cv2.LINE_AA)#tuval, yazılacak metin, metnin yerleşeceği sol alt kose, yazı tipi, font buyukluk, yazı rengi, yazı tipi \n",
    "#cv2.putText(canvas, \"Umut CAN\", (30, 100), font2, 2, (0,0,0), cv2.LINE_AA)\n",
    "#cv2.putText(canvas, \"Umut CAN\", (30, 100), font3, 2, (0,0,0), cv2.LINE_AA)\n",
    "cv2.imshow(\"Canvas\", canvas)\n",
    "cv2.waitKey(0)\n",
    "cv2.destroyAllWindows()\n"
   ]
  },
  {
   "cell_type": "code",
   "execution_count": null,
   "id": "c75d95cd",
   "metadata": {},
   "outputs": [],
   "source": []
  }
 ],
 "metadata": {
  "kernelspec": {
   "display_name": "Python 3 (ipykernel)",
   "language": "python",
   "name": "python3"
  },
  "language_info": {
   "codemirror_mode": {
    "name": "ipython",
    "version": 3
   },
   "file_extension": ".py",
   "mimetype": "text/x-python",
   "name": "python",
   "nbconvert_exporter": "python",
   "pygments_lexer": "ipython3",
   "version": "3.9.12"
  }
 },
 "nbformat": 4,
 "nbformat_minor": 5
}
