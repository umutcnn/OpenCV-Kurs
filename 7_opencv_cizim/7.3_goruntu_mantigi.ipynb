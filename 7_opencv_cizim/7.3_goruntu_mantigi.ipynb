{
 "cells": [
  {
   "cell_type": "code",
   "execution_count": 2,
   "id": "4ccdaf68",
   "metadata": {},
   "outputs": [],
   "source": [
    "import cv2\n",
    "import numpy as np\n",
    "img=np.zeros((10,10,3), np.uint8)\n",
    "img[0,0]=(255,255,255)\n",
    "img[0,1]=(255,255,200)\n",
    "img[0,2]=(255,255,150)\n",
    "img[0,3]=(255,255,15)\n",
    "img=cv2.resize(img,(1000,1000),interpolation=cv2.INTER_AREA)\n",
    "\n",
    "cv2.imshow(\"Canvas\",img)\n",
    "cv2.waitKey(0)\n",
    "cv2.destroyAllWindows()"
   ]
  },
  {
   "cell_type": "code",
   "execution_count": 6,
   "id": "4cef8652",
   "metadata": {},
   "outputs": [],
   "source": [
    "import cv2\n",
    "import numpy as np\n",
    "img=np.zeros((10,10), np.uint8)\n",
    "img[0,0]=(255)\n",
    "img[0,1]=(200)\n",
    "img[0,2]=(150)\n",
    "img[0,3]=(15)\n",
    "img=cv2.resize(img,(1000,1000),interpolation=cv2.INTER_AREA)\n",
    "\n",
    "cv2.imshow(\"Canvas\",img)\n",
    "cv2.waitKey(0)\n",
    "cv2.destroyAllWindows()"
   ]
  },
  {
   "cell_type": "code",
   "execution_count": null,
   "id": "22a00d77",
   "metadata": {},
   "outputs": [],
   "source": []
  }
 ],
 "metadata": {
  "kernelspec": {
   "display_name": "Python 3 (ipykernel)",
   "language": "python",
   "name": "python3"
  },
  "language_info": {
   "codemirror_mode": {
    "name": "ipython",
    "version": 3
   },
   "file_extension": ".py",
   "mimetype": "text/x-python",
   "name": "python",
   "nbconvert_exporter": "python",
   "pygments_lexer": "ipython3",
   "version": "3.9.12"
  }
 },
 "nbformat": 4,
 "nbformat_minor": 5
}
