{
 "cells": [
  {
   "cell_type": "code",
   "execution_count": 8,
   "id": "2a3d32ea",
   "metadata": {},
   "outputs": [],
   "source": [
    "import cv2\n",
    "import numpy as np\n",
    "canvas=np.zeros((512,512,3), dtype=np.uint8)\n",
    "\n",
    "cv2.line(canvas,(50,50),(512,512),(255,0,0), 5)#başlangıc noktası,bitis noktasi, cizginin rengi, cizginin kalinligi\n",
    "cv2.line(canvas,(1000,50),(200,250),(0,0,255), thickness=5)\n",
    "cv2.rectangle(canvas,(20,20),(50,50),(0,255,0), thickness=2)#dikdortgen çizme\n",
    "cv2.rectangle(canvas,(50,50),(80,80),(0,255,0), thickness=-1)#ici dolu dikdortgen çizme\n",
    "cv2.circle(canvas,(250,250),100,(0,255,0), thickness=5)#cember çizme\n",
    "cv2.circle(canvas,(250,250),10,(0,255,0), thickness=-1)#cember çizme\n",
    "\n",
    "p1 = (100, 200)\n",
    "p2 = (50, 50)\n",
    "p3 = (300, 100)\n",
    "\n",
    "cv2.line(canvas, p1, p2, (0,0,0), 4)\n",
    "cv2.line(canvas, p2, p3, (0,0,0), 4)\n",
    "cv2.line(canvas, p1, p3, (0,0,0), 4)#üç satır birlesimiyle ucgen cidirme\n",
    "\n",
    "points = np.array([[[110, 200], [330, 200], [290, 220], [100,100]]], np.int32)\n",
    "cv2.polylines(canvas, [points], False, (0,0,100), 5)\n",
    "\n",
    "cv2.ellipse(canvas, (300, 300), (100, 50), 0, 0, 360, (255, 255, 0), -1)\n",
    "\n",
    "cv2.imshow(\"Canvas\",canvas)\n",
    "cv2.waitKey(0)\n",
    "cv2.destroyAllWindows()"
   ]
  },
  {
   "cell_type": "code",
   "execution_count": null,
   "id": "52bc93eb",
   "metadata": {},
   "outputs": [],
   "source": []
  },
  {
   "cell_type": "code",
   "execution_count": null,
   "id": "e7b3d2a7",
   "metadata": {},
   "outputs": [],
   "source": []
  }
 ],
 "metadata": {
  "kernelspec": {
   "display_name": "Python 3 (ipykernel)",
   "language": "python",
   "name": "python3"
  },
  "language_info": {
   "codemirror_mode": {
    "name": "ipython",
    "version": 3
   },
   "file_extension": ".py",
   "mimetype": "text/x-python",
   "name": "python",
   "nbconvert_exporter": "python",
   "pygments_lexer": "ipython3",
   "version": "3.9.12"
  }
 },
 "nbformat": 4,
 "nbformat_minor": 5
}
