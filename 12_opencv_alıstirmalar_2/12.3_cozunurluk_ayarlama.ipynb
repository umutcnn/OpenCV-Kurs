{
 "cells": [
  {
   "cell_type": "code",
   "execution_count": 1,
   "id": "fe9bdb35",
   "metadata": {},
   "outputs": [
    {
     "name": "stdout",
     "output_type": "stream",
     "text": [
      "Width : 640.0\n",
      "Height : 480.0\n",
      "Width* : 1280.0\n",
      "Height* : 720.0\n"
     ]
    },
    {
     "ename": "KeyboardInterrupt",
     "evalue": "",
     "output_type": "error",
     "traceback": [
      "\u001b[1;31m---------------------------------------------------------------------------\u001b[0m",
      "\u001b[1;31mKeyboardInterrupt\u001b[0m                         Traceback (most recent call last)",
      "Input \u001b[1;32mIn [1]\u001b[0m, in \u001b[0;36m<cell line: 18>\u001b[1;34m()\u001b[0m\n\u001b[0;32m     15\u001b[0m \u001b[38;5;28mprint\u001b[39m(\u001b[38;5;124m\"\u001b[39m\u001b[38;5;124mHeight* : \u001b[39m\u001b[38;5;124m\"\u001b[39m\u001b[38;5;241m+\u001b[39m\u001b[38;5;28mstr\u001b[39m(cap\u001b[38;5;241m.\u001b[39mget(\u001b[38;5;241m4\u001b[39m)))\n\u001b[0;32m     17\u001b[0m \u001b[38;5;28;01mwhile\u001b[39;00m \u001b[38;5;28;01mTrue\u001b[39;00m:\n\u001b[1;32m---> 18\u001b[0m     _,frame \u001b[38;5;241m=\u001b[39m \u001b[43mcap\u001b[49m\u001b[38;5;241;43m.\u001b[39;49m\u001b[43mread\u001b[49m\u001b[43m(\u001b[49m\u001b[43m)\u001b[49m\n\u001b[0;32m     19\u001b[0m     frame \u001b[38;5;241m=\u001b[39m cv2\u001b[38;5;241m.\u001b[39mflip(frame,\u001b[38;5;241m1\u001b[39m)\n\u001b[0;32m     21\u001b[0m     cv2\u001b[38;5;241m.\u001b[39mimshow(windowName,frame)\n",
      "\u001b[1;31mKeyboardInterrupt\u001b[0m: "
     ]
    }
   ],
   "source": [
    "import cv2\n",
    "#kameradan alınan canlı goruntunun cozunurlugunu ayarlama\n",
    "\n",
    "#pencere adı ayarlama\n",
    "windowName = \"Live Video\"\n",
    "cv2.namedWindow(windowName)\n",
    "\n",
    "cap = cv2.VideoCapture(0)#goruntu alma\n",
    "\n",
    "print(\"Width : \"+str(cap.get(3)))# genislik ayarlama\n",
    "print(\"Height : \"+str(cap.get(4)))# yukseklik ayarlama\n",
    "\n",
    "cap.set(3,1280)#genislik icin istenen değer yazılır\n",
    "cap.set(4,720)#yukseklik icin istenen değer yazılır\n",
    "\n",
    "print(\"Width* : \"+str(cap.get(3)))#captaki goruntunun enini verir\n",
    "print(\"Height* : \"+str(cap.get(4)))#captaki goruntunun yukseklik verir\n",
    "\n",
    "while True:\n",
    "    _,frame = cap.read()\n",
    "    frame = cv2.flip(frame,1)#ters cevir\n",
    "\n",
    "    cv2.imshow(windowName,frame)\n",
    "\n",
    "    if cv2.waitKey(1) == 27:\n",
    "        break\n",
    "        \n",
    "    if cv2.waitKey(20) & 0xFF==ord('q'):\n",
    "        break\n",
    "\n",
    "cap.release()\n",
    "cv2.destroyAllWindows()"
   ]
  },
  {
   "cell_type": "code",
   "execution_count": null,
   "id": "3e66f4f8",
   "metadata": {},
   "outputs": [],
   "source": []
  }
 ],
 "metadata": {
  "kernelspec": {
   "display_name": "Python 3 (ipykernel)",
   "language": "python",
   "name": "python3"
  },
  "language_info": {
   "codemirror_mode": {
    "name": "ipython",
    "version": 3
   },
   "file_extension": ".py",
   "mimetype": "text/x-python",
   "name": "python",
   "nbconvert_exporter": "python",
   "pygments_lexer": "ipython3",
   "version": "3.9.12"
  }
 },
 "nbformat": 4,
 "nbformat_minor": 5
}
