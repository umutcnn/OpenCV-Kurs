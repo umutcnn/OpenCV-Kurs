{
 "cells": [
  {
   "cell_type": "code",
   "execution_count": 1,
   "id": "0d6ac3d0",
   "metadata": {},
   "outputs": [],
   "source": [
    "import cv2\n",
    "import numpy as np\n",
    "\n",
    "\n",
    "#eslenmek istenen resimler tanımlandı\n",
    "image_path = \"starwars.jpg\"\n",
    "template_path = \"starwars2.jpg\"\n",
    "\n",
    "img = cv2.imread(image_path)\n",
    "gray_img = cv2.cvtColor(img,cv2.COLOR_BGR2GRAY)#resmi griye cevirme\n",
    "\n",
    "template = cv2.imread(template_path,cv2.IMREAD_GRAYSCALE)\n",
    "w,h = template.shape[::-1]\n",
    "\n",
    "result = cv2.matchTemplate(gray_img,template,cv2.TM_CCOEFF_NORMED)#eslestirme yapılacak resim ve sablon girilir\n",
    "location = np.where(result >= 0.95)\n",
    "\n",
    "\n",
    "for point in zip(*location[::-1]):\n",
    "    cv2.rectangle(img,point,(point[0]+w,point[1]+h),(0,255,0),3)\n",
    "\n",
    "\n",
    "cv2.imshow(\"Image\",img)\n",
    "cv2.waitKey(0)\n",
    "cv2.destroyAllWindows()"
   ]
  },
  {
   "cell_type": "code",
   "execution_count": null,
   "id": "40d65214",
   "metadata": {},
   "outputs": [],
   "source": []
  }
 ],
 "metadata": {
  "kernelspec": {
   "display_name": "Python 3 (ipykernel)",
   "language": "python",
   "name": "python3"
  },
  "language_info": {
   "codemirror_mode": {
    "name": "ipython",
    "version": 3
   },
   "file_extension": ".py",
   "mimetype": "text/x-python",
   "name": "python",
   "nbconvert_exporter": "python",
   "pygments_lexer": "ipython3",
   "version": "3.9.12"
  }
 },
 "nbformat": 4,
 "nbformat_minor": 5
}
