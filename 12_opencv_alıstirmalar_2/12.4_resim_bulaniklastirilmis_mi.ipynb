{
 "cells": [
  {
   "cell_type": "code",
   "execution_count": 2,
   "id": "52ff1e13",
   "metadata": {},
   "outputs": [
    {
     "name": "stdout",
     "output_type": "stream",
     "text": [
      "277.3132372357944\n",
      "bulurlu gorsel\n"
     ]
    }
   ],
   "source": [
    "import cv2\n",
    "\n",
    "img = cv2.imread(\"starwars.jpg\")#orijinal gorsel\n",
    "blurry_img = cv2.medianBlur(img,9)#bulurlu gorsel\n",
    "\n",
    "laplacian= cv2.Laplacian(blurry_img,cv2.CV_64F).var()\n",
    "print(laplacian)\n",
    "\n",
    "if laplacian < 500:\n",
    "    print(\"bulurlu gorsel\")\n",
    "\n",
    "\n",
    "cv2.imshow(\"img\",img)\n",
    "cv2.imshow(\"blurry_img\",blurry_img)\n",
    "cv2.waitKey(0)\n",
    "cv2.destroyAllWindows()"
   ]
  },
  {
   "cell_type": "code",
   "execution_count": null,
   "id": "a5b6d212",
   "metadata": {},
   "outputs": [],
   "source": []
  }
 ],
 "metadata": {
  "kernelspec": {
   "display_name": "Python 3 (ipykernel)",
   "language": "python",
   "name": "python3"
  },
  "language_info": {
   "codemirror_mode": {
    "name": "ipython",
    "version": 3
   },
   "file_extension": ".py",
   "mimetype": "text/x-python",
   "name": "python",
   "nbconvert_exporter": "python",
   "pygments_lexer": "ipython3",
   "version": "3.9.12"
  }
 },
 "nbformat": 4,
 "nbformat_minor": 5
}
