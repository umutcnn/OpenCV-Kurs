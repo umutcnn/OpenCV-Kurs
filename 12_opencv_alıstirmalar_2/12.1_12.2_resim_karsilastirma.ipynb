{
 "cells": [
  {
   "cell_type": "code",
   "execution_count": 1,
   "id": "92b73251",
   "metadata": {},
   "outputs": [
    {
     "name": "stdout",
     "output_type": "stream",
     "text": [
      "NOT completely equal\n"
     ]
    }
   ],
   "source": [
    "import cv2\n",
    "import numpy as np\n",
    "\n",
    "path1 = \"aircraft.jpg\"\n",
    "path2 = \"aircraft1.jpg\"\n",
    "\n",
    "img1 = cv2.imread(path1)\n",
    "img1 = cv2.resize(img1,(640,550))\n",
    "\n",
    "img2 = cv2.imread(path2)\n",
    "img2 = cv2.resize(img2,(640,550))\n",
    "\n",
    "img3 = cv2.medianBlur(img1,7)\n",
    "\n",
    "\"\"\"\n",
    "if img1.shape == img2.shape:\n",
    "    print(\"same size\")\n",
    "else:\n",
    "    print(\"not same\")\n",
    "\"\"\"\n",
    "\n",
    "# diff = difference\n",
    "diff = cv2.subtract(img1,img3)\n",
    "b,g,r = cv2.split(diff)\n",
    "\n",
    "\n",
    "if cv2.countNonZero(b) == 0 and cv2.countNonZero(g) == 0 and cv2.countNonZero(r) == 0 :\n",
    "    print(\"completely equal\")\n",
    "else:\n",
    "    print(\"NOT completely equal\")\n",
    "\n",
    "\n",
    "cv2.imshow(\"Difference\",diff)\n",
    "\n",
    "cv2.waitKey(0)\n",
    "cv2.destroyAllWindows()"
   ]
  },
  {
   "cell_type": "code",
   "execution_count": null,
   "id": "bf7dd46b",
   "metadata": {},
   "outputs": [],
   "source": []
  }
 ],
 "metadata": {
  "kernelspec": {
   "display_name": "Python 3 (ipykernel)",
   "language": "python",
   "name": "python3"
  },
  "language_info": {
   "codemirror_mode": {
    "name": "ipython",
    "version": 3
   },
   "file_extension": ".py",
   "mimetype": "text/x-python",
   "name": "python",
   "nbconvert_exporter": "python",
   "pygments_lexer": "ipython3",
   "version": "3.9.12"
  }
 },
 "nbformat": 4,
 "nbformat_minor": 5
}
