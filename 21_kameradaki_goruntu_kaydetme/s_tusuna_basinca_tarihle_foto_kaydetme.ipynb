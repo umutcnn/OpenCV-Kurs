{
 "cells": [
  {
   "cell_type": "code",
   "execution_count": 2,
   "id": "3eaddb56",
   "metadata": {},
   "outputs": [
    {
     "name": "stdout",
     "output_type": "stream",
     "text": [
      "2023-02-25 16.47.07.871861.png\n",
      "2023-02-25 16.47.08.511773.png\n",
      "2023-02-25 16.47.08.799719.png\n"
     ]
    }
   ],
   "source": [
    "import cv2 as cv\n",
    "import datetime\n",
    "\n",
    "img = cv.VideoCapture(0)\n",
    "\n",
    "while 1:\n",
    "    ret, frame = img.read()\n",
    "    frame=cv.flip(frame,1)\n",
    "    cv.imshow(\"kamera\", frame)\n",
    "    tus = cv.waitKey(1)\n",
    "    if tus == ord('q'):\n",
    "        break\n",
    "    elif tus == ord('s'):\n",
    "        e = datetime.datetime.now()\n",
    "        isim=str(e)+\".png\"\n",
    "        isim = isim.replace(\"/\", \".\")\n",
    "        isim= isim.replace(\":\", \".\")\n",
    "        print(isim)\n",
    "        cv.imwrite(isim, frame)\n",
    "img.release()\n",
    "cv.destroyAllWindows()"
   ]
  },
  {
   "cell_type": "code",
   "execution_count": null,
   "id": "bdf13b6b",
   "metadata": {},
   "outputs": [],
   "source": []
  },
  {
   "cell_type": "code",
   "execution_count": null,
   "id": "751b7457",
   "metadata": {},
   "outputs": [],
   "source": []
  }
 ],
 "metadata": {
  "kernelspec": {
   "display_name": "Python 3 (ipykernel)",
   "language": "python",
   "name": "python3"
  },
  "language_info": {
   "codemirror_mode": {
    "name": "ipython",
    "version": 3
   },
   "file_extension": ".py",
   "mimetype": "text/x-python",
   "name": "python",
   "nbconvert_exporter": "python",
   "pygments_lexer": "ipython3",
   "version": "3.9.12"
  }
 },
 "nbformat": 4,
 "nbformat_minor": 5
}
