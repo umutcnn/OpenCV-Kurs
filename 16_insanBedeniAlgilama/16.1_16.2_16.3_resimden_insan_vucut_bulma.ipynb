{
 "cells": [
  {
   "cell_type": "code",
   "execution_count": 3,
   "id": "a30dbb53",
   "metadata": {},
   "outputs": [],
   "source": [
    "# 1. Kullanacağımız kütüphaneyi çalışmamıza dahil edelim.\n",
    "import cv2   \n",
    "\n",
    "\n",
    "# 2. Kullanacağımız resmi çalışmamıza dahil edelim.\n",
    "img = cv2.imread(\"body.jpg\")\n",
    "\n",
    "# 3. Kullanacağımız cascade dosyalarını çalışmamıza dahil edelim.\n",
    "body_cascade = cv2.CascadeClassifier(\"fullbody.xml\")\n",
    "\n",
    "# 4. Haar-like özellikleri kolay algılayabilmek için resmi boz(gri) tonlara çevirelim.\n",
    "gray = cv2.cvtColor(img, cv2.COLOR_BGR2GRAY)\n",
    "    \n",
    "# 5. Şimdi de cascade dosyamızı kullanarak her bir kare üzerindeki yüzlerin koordinarlarını bulalım.\n",
    "bodies = body_cascade.detectMultiScale(gray,1.1,5)\n",
    "\n",
    "# 7. \"bodies\" değişkeninde tuttuğumuz koordinatları kullanarak yüzleri dikdörtgen içerisine alalım.\n",
    "for (x,y,w,h) in bodies:\n",
    "    cv2.rectangle(img,(x,y),(x+w,y+h),(0,255,0),2)\n",
    "         \n",
    "# 8. İşlediğimiz kareleri görelim.\n",
    "cv2.imshow('image',img)\n",
    "\n",
    "# 10. Son olarak videoyu serbest bırakalım.\n",
    "cv2.waitKey(0)\n",
    "cv2.destroyAllWindows()"
   ]
  },
  {
   "cell_type": "code",
   "execution_count": null,
   "id": "38be85e0",
   "metadata": {},
   "outputs": [],
   "source": []
  },
  {
   "cell_type": "code",
   "execution_count": null,
   "id": "3fb7d5de",
   "metadata": {},
   "outputs": [],
   "source": []
  }
 ],
 "metadata": {
  "kernelspec": {
   "display_name": "Python 3 (ipykernel)",
   "language": "python",
   "name": "python3"
  },
  "language_info": {
   "codemirror_mode": {
    "name": "ipython",
    "version": 3
   },
   "file_extension": ".py",
   "mimetype": "text/x-python",
   "name": "python",
   "nbconvert_exporter": "python",
   "pygments_lexer": "ipython3",
   "version": "3.9.12"
  }
 },
 "nbformat": 4,
 "nbformat_minor": 5
}
