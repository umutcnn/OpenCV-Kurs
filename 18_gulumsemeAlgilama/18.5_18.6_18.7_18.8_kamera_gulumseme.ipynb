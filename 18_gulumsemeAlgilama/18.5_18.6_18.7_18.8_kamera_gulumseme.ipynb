{
 "cells": [
  {
   "cell_type": "code",
   "execution_count": null,
   "id": "2a9ba533",
   "metadata": {},
   "outputs": [],
   "source": [
    "import cv2\n",
    "\n",
    "\n",
    "vid = cv2.VideoCapture(0)\n",
    "\n",
    "smile_cascade = cv2.CascadeClassifier('smile.xml')\n",
    "face_cascade = cv2.CascadeClassifier('frontalface.xml')\n",
    "\n",
    "\n",
    "while 1:\n",
    "    ret,frame = vid.read()\n",
    "    frame =cv2.flip(frame,1)\n",
    "    \n",
    "    gray = cv2.cvtColor(frame, cv2.COLOR_BGR2GRAY)\n",
    "    faces = face_cascade.detectMultiScale(gray,1.5,9)\n",
    "    \n",
    "    for (x,y,w,h) in faces:\n",
    "\n",
    "        cv2.rectangle(frame,(x,y),(x+w,y+h),(0,0,255),2)\n",
    "        roi_gray = gray[x:x+w,y:y+h]\n",
    "        roi_img = frame[x:x+w,y:y+h]\n",
    "\n",
    "        smiles = smile_cascade.detectMultiScale(roi_gray,1.5,9)\n",
    "        for (ex,ey,ew,eh) in smiles:\n",
    "            cv2.rectangle(roi_img,(ex,ey),(ex+ew,ey+eh),(0,255,0),2)\n",
    "\n",
    "    cv2.imshow('videos',frame)\n",
    "\n",
    "    if cv2.waitKey(5) & 0xFF == ord('q'):\n",
    "        break\n",
    "\n",
    "vid.release()\n",
    "cv2.destroyAllWindows()   "
   ]
  }
 ],
 "metadata": {
  "kernelspec": {
   "display_name": "Python 3 (ipykernel)",
   "language": "python",
   "name": "python3"
  },
  "language_info": {
   "codemirror_mode": {
    "name": "ipython",
    "version": 3
   },
   "file_extension": ".py",
   "mimetype": "text/x-python",
   "name": "python",
   "nbconvert_exporter": "python",
   "pygments_lexer": "ipython3",
   "version": "3.9.12"
  }
 },
 "nbformat": 4,
 "nbformat_minor": 5
}
